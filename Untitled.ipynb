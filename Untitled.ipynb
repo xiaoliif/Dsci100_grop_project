{
 "cells": [
  {
   "cell_type": "markdown",
   "id": "f2003e89-2aba-4f13-ae3e-bc5ef16cf335",
   "metadata": {},
   "source": [
    "-Introduction:\n",
    "For some background, computer science students at UBC investigated how people play video games by setting up a server running MineCraft and organizing the data into the players dataset and sessions dataset. Only the players dataset will be used to answer this project question. The players dataset contains 7 variables: \n",
    "\n",
    "1. `experience` (character): player’s experience (`Veteran`, `Pro`, `Regular`, `Amateur`, `Beginner`)\n",
    "2. `subscribe` (logical): if the player is subscribed `TRUE` or not `FALSE`\n",
    "3. `hashedEmail` (character): email addresses in hashed format\n",
    "4. `played_hours` (double precision): hours spent playing Minecraft\n",
    "5. `name` (character): player's name\n",
    "6. `gender` (character): player’s gender (`Male`, `Female`, `Non-binary`, `Two-Spirited`, `Other`, `Prefer not to say`)\n",
    "7. `Age` (double precision): age of player\n",
    "\n",
    "Some issues initially encountered by this dataset is:\n",
    "- `Age` contains missing values, denoted by NA.\n",
    "- Large spread (standard deviation) of `played_hours` (28.357343)\n",
    "\n",
    "This project investigates the question if hours played and age can predict whether the player is subscribed to the game-related newsletter? The predictors hours played and age were investigated because prior research suggests that younger individuals tend to be more engaged in gaming, and higher gaming engagement is often linked to stronger attachment to game-related content (Wittek et al., 2016). Our group hypothesizes younger players likely have a higher interest influenced by friends and individuals who spend more hours playing are likely inclined to enhance their gaming experience through subscribing to the newsletter. By analyzing age and hours played, the project aims to identify patterns in player engagement and determine whether more time-invested or younger players are more likely to subscribe. The motivation in understanding player engagement is relevant in addressing potential risks associated with excessive play. Wittek et al. (2016) found that poor psychosomatic health was linked to engaged gaming, highlighting potential mental and physical health risks associated with high playtime most commonly amongst young players. Therefore, our project, which explores how age and time spent playing affect subscription behavior, is highly relevant and timely.\n"
   ]
  }
 ],
 "metadata": {
  "kernelspec": {
   "display_name": "R",
   "language": "R",
   "name": "ir"
  },
  "language_info": {
   "codemirror_mode": "r",
   "file_extension": ".r",
   "mimetype": "text/x-r-source",
   "name": "R",
   "pygments_lexer": "r",
   "version": "4.3.3"
  }
 },
 "nbformat": 4,
 "nbformat_minor": 5
}
